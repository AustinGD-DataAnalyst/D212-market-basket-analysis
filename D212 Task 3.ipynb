{
 "cells": [
  {
   "cell_type": "markdown",
   "metadata": {},
   "source": [
    "# Part I: Research Question\n",
    "## A.  Describe the purpose of this data mining report by doing the following:\n",
    "### 1.  Propose one question relevant to a real-world organizational situation that you will answer using market basket analysis.\n",
    "\n",
    "A strategy set forth by the executive team for this telecommunication company is to increase customer retention by offering discounts on items available for purchase. By bundling items typically bought together, the company can reduce the number of items it needs to discount to a select few while still giving the most significant incentive to its customers.\n",
    "\n",
    "This market basket analysis will answer this strategy's key question: What items are bought together most frequently and ideal for bundling together for discounts?\n",
    "\n",
    "### 2.  Define one goal of the data analysis. Ensure that your goal is reasonable within the scenario's scope and represented in the available data.\n",
    "\n",
    "This analysis aims to develop a series of rules for the items most frequently bought together and understand how they compare to other transactions in the dataset by calculating their confidence, lift, and individual support for the items.\n",
    "\n",
    "# Part II: Market Basket Justification\n",
    "## B.  Explain the reasons for using market basket analysis by doing the following:\n",
    "### 1.  Explain how market basket analyzes the selected dataset. Include expected outcomes.\n",
    "\n",
    "A market basket analysis studies transactions in a data set of purchases and finds patterns of items frequently bought together. In this dataset, there are 7,501 customer purchases of 119 different items. \n",
    "\n",
    "With so many transactions of so many items, it can be difficult to discern which items are most frequently bought together if studying the frequency of every possible permutation of items included.\n",
    "For example, looking at all possible permutations of 2 items bought together results in 14,042 possibilities, while examining possibilities of 3 items purchased together increases that to 1,642,914 permutations.\n",
    "\n",
    "A set of rules for purchases that large would be too cumbersome to analyze properly. However, by examing the transactions in this dataset, eliminating unnecessary rules is easier by calculating the support, lift, and confidence of items bought in the transaction data using an Apriori algorithm.\n",
    "Once completed, a market basket analysis will have narrowed down sets of items purchased together and created a list of rules for those sets. Filtering those sets of items further will allow decision-makers to craft a strategy around items in these sets of rules to accomplish stated goals."
   ]
  },
  {
   "cell_type": "code",
   "execution_count": 65,
   "metadata": {},
   "outputs": [],
   "source": [
    "import numpy as np\n",
    "import pandas as pd\n",
    "import matplotlib.pyplot as plt\n",
    "import seaborn as sns\n",
    "\n",
    "from itertools import permutations\n",
    "from mlxtend.preprocessing import TransactionEncoder\n",
    "from mlxtend.frequent_patterns import association_rules, apriori"
   ]
  },
  {
   "cell_type": "code",
   "execution_count": 66,
   "metadata": {},
   "outputs": [],
   "source": [
    "df = pd.read_csv('teleco_market_basket.csv')"
   ]
  },
  {
   "cell_type": "code",
   "execution_count": 67,
   "metadata": {},
   "outputs": [
    {
     "data": {
      "text/html": [
       "<div>\n",
       "<style scoped>\n",
       "    .dataframe tbody tr th:only-of-type {\n",
       "        vertical-align: middle;\n",
       "    }\n",
       "\n",
       "    .dataframe tbody tr th {\n",
       "        vertical-align: top;\n",
       "    }\n",
       "\n",
       "    .dataframe thead th {\n",
       "        text-align: right;\n",
       "    }\n",
       "</style>\n",
       "<table border=\"1\" class=\"dataframe\">\n",
       "  <thead>\n",
       "    <tr style=\"text-align: right;\">\n",
       "      <th></th>\n",
       "      <th>Item01</th>\n",
       "      <th>Item02</th>\n",
       "      <th>Item03</th>\n",
       "      <th>Item04</th>\n",
       "      <th>Item05</th>\n",
       "      <th>Item06</th>\n",
       "      <th>Item07</th>\n",
       "      <th>Item08</th>\n",
       "      <th>Item09</th>\n",
       "      <th>Item10</th>\n",
       "      <th>Item11</th>\n",
       "      <th>Item12</th>\n",
       "      <th>Item13</th>\n",
       "      <th>Item14</th>\n",
       "      <th>Item15</th>\n",
       "      <th>Item16</th>\n",
       "      <th>Item17</th>\n",
       "      <th>Item18</th>\n",
       "      <th>Item19</th>\n",
       "      <th>Item20</th>\n",
       "    </tr>\n",
       "  </thead>\n",
       "  <tbody>\n",
       "    <tr>\n",
       "      <th>0</th>\n",
       "      <td>NaN</td>\n",
       "      <td>NaN</td>\n",
       "      <td>NaN</td>\n",
       "      <td>NaN</td>\n",
       "      <td>NaN</td>\n",
       "      <td>NaN</td>\n",
       "      <td>NaN</td>\n",
       "      <td>NaN</td>\n",
       "      <td>NaN</td>\n",
       "      <td>NaN</td>\n",
       "      <td>NaN</td>\n",
       "      <td>NaN</td>\n",
       "      <td>NaN</td>\n",
       "      <td>NaN</td>\n",
       "      <td>NaN</td>\n",
       "      <td>NaN</td>\n",
       "      <td>NaN</td>\n",
       "      <td>NaN</td>\n",
       "      <td>NaN</td>\n",
       "      <td>NaN</td>\n",
       "    </tr>\n",
       "    <tr>\n",
       "      <th>1</th>\n",
       "      <td>Logitech M510 Wireless mouse</td>\n",
       "      <td>HP 63 Ink</td>\n",
       "      <td>HP 65 ink</td>\n",
       "      <td>nonda USB C to USB Adapter</td>\n",
       "      <td>10ft iPHone Charger Cable</td>\n",
       "      <td>HP 902XL ink</td>\n",
       "      <td>Creative Pebble 2.0 Speakers</td>\n",
       "      <td>Cleaning Gel Universal Dust Cleaner</td>\n",
       "      <td>Micro Center 32GB Memory card</td>\n",
       "      <td>YUNSONG 3pack 6ft Nylon Lightning Cable</td>\n",
       "      <td>TopMate C5 Laptop Cooler pad</td>\n",
       "      <td>Apple USB-C Charger cable</td>\n",
       "      <td>HyperX Cloud Stinger Headset</td>\n",
       "      <td>TONOR USB Gaming Microphone</td>\n",
       "      <td>Dust-Off Compressed Gas 2 pack</td>\n",
       "      <td>3A USB Type C Cable 3 pack 6FT</td>\n",
       "      <td>HOVAMP iPhone charger</td>\n",
       "      <td>SanDisk Ultra 128GB card</td>\n",
       "      <td>FEEL2NICE 5 pack 10ft Lighning cable</td>\n",
       "      <td>FEIYOLD Blue light Blocking Glasses</td>\n",
       "    </tr>\n",
       "    <tr>\n",
       "      <th>2</th>\n",
       "      <td>NaN</td>\n",
       "      <td>NaN</td>\n",
       "      <td>NaN</td>\n",
       "      <td>NaN</td>\n",
       "      <td>NaN</td>\n",
       "      <td>NaN</td>\n",
       "      <td>NaN</td>\n",
       "      <td>NaN</td>\n",
       "      <td>NaN</td>\n",
       "      <td>NaN</td>\n",
       "      <td>NaN</td>\n",
       "      <td>NaN</td>\n",
       "      <td>NaN</td>\n",
       "      <td>NaN</td>\n",
       "      <td>NaN</td>\n",
       "      <td>NaN</td>\n",
       "      <td>NaN</td>\n",
       "      <td>NaN</td>\n",
       "      <td>NaN</td>\n",
       "      <td>NaN</td>\n",
       "    </tr>\n",
       "    <tr>\n",
       "      <th>3</th>\n",
       "      <td>Apple Lightning to Digital AV Adapter</td>\n",
       "      <td>TP-Link AC1750 Smart WiFi Router</td>\n",
       "      <td>Apple Pencil</td>\n",
       "      <td>NaN</td>\n",
       "      <td>NaN</td>\n",
       "      <td>NaN</td>\n",
       "      <td>NaN</td>\n",
       "      <td>NaN</td>\n",
       "      <td>NaN</td>\n",
       "      <td>NaN</td>\n",
       "      <td>NaN</td>\n",
       "      <td>NaN</td>\n",
       "      <td>NaN</td>\n",
       "      <td>NaN</td>\n",
       "      <td>NaN</td>\n",
       "      <td>NaN</td>\n",
       "      <td>NaN</td>\n",
       "      <td>NaN</td>\n",
       "      <td>NaN</td>\n",
       "      <td>NaN</td>\n",
       "    </tr>\n",
       "    <tr>\n",
       "      <th>4</th>\n",
       "      <td>NaN</td>\n",
       "      <td>NaN</td>\n",
       "      <td>NaN</td>\n",
       "      <td>NaN</td>\n",
       "      <td>NaN</td>\n",
       "      <td>NaN</td>\n",
       "      <td>NaN</td>\n",
       "      <td>NaN</td>\n",
       "      <td>NaN</td>\n",
       "      <td>NaN</td>\n",
       "      <td>NaN</td>\n",
       "      <td>NaN</td>\n",
       "      <td>NaN</td>\n",
       "      <td>NaN</td>\n",
       "      <td>NaN</td>\n",
       "      <td>NaN</td>\n",
       "      <td>NaN</td>\n",
       "      <td>NaN</td>\n",
       "      <td>NaN</td>\n",
       "      <td>NaN</td>\n",
       "    </tr>\n",
       "  </tbody>\n",
       "</table>\n",
       "</div>"
      ],
      "text/plain": [
       "                                  Item01                            Item02  \\\n",
       "0                                    NaN                               NaN   \n",
       "1           Logitech M510 Wireless mouse                         HP 63 Ink   \n",
       "2                                    NaN                               NaN   \n",
       "3  Apple Lightning to Digital AV Adapter  TP-Link AC1750 Smart WiFi Router   \n",
       "4                                    NaN                               NaN   \n",
       "\n",
       "         Item03                      Item04                     Item05  \\\n",
       "0           NaN                         NaN                        NaN   \n",
       "1     HP 65 ink  nonda USB C to USB Adapter  10ft iPHone Charger Cable   \n",
       "2           NaN                         NaN                        NaN   \n",
       "3  Apple Pencil                         NaN                        NaN   \n",
       "4           NaN                         NaN                        NaN   \n",
       "\n",
       "         Item06                        Item07  \\\n",
       "0           NaN                           NaN   \n",
       "1  HP 902XL ink  Creative Pebble 2.0 Speakers   \n",
       "2           NaN                           NaN   \n",
       "3           NaN                           NaN   \n",
       "4           NaN                           NaN   \n",
       "\n",
       "                                Item08                         Item09  \\\n",
       "0                                  NaN                            NaN   \n",
       "1  Cleaning Gel Universal Dust Cleaner  Micro Center 32GB Memory card   \n",
       "2                                  NaN                            NaN   \n",
       "3                                  NaN                            NaN   \n",
       "4                                  NaN                            NaN   \n",
       "\n",
       "                                    Item10                        Item11  \\\n",
       "0                                      NaN                           NaN   \n",
       "1  YUNSONG 3pack 6ft Nylon Lightning Cable  TopMate C5 Laptop Cooler pad   \n",
       "2                                      NaN                           NaN   \n",
       "3                                      NaN                           NaN   \n",
       "4                                      NaN                           NaN   \n",
       "\n",
       "                      Item12                        Item13  \\\n",
       "0                        NaN                           NaN   \n",
       "1  Apple USB-C Charger cable  HyperX Cloud Stinger Headset   \n",
       "2                        NaN                           NaN   \n",
       "3                        NaN                           NaN   \n",
       "4                        NaN                           NaN   \n",
       "\n",
       "                        Item14                          Item15  \\\n",
       "0                          NaN                             NaN   \n",
       "1  TONOR USB Gaming Microphone  Dust-Off Compressed Gas 2 pack   \n",
       "2                          NaN                             NaN   \n",
       "3                          NaN                             NaN   \n",
       "4                          NaN                             NaN   \n",
       "\n",
       "                           Item16                 Item17  \\\n",
       "0                             NaN                    NaN   \n",
       "1  3A USB Type C Cable 3 pack 6FT  HOVAMP iPhone charger   \n",
       "2                             NaN                    NaN   \n",
       "3                             NaN                    NaN   \n",
       "4                             NaN                    NaN   \n",
       "\n",
       "                     Item18                                Item19  \\\n",
       "0                       NaN                                   NaN   \n",
       "1  SanDisk Ultra 128GB card  FEEL2NICE 5 pack 10ft Lighning cable   \n",
       "2                       NaN                                   NaN   \n",
       "3                       NaN                                   NaN   \n",
       "4                       NaN                                   NaN   \n",
       "\n",
       "                                Item20  \n",
       "0                                  NaN  \n",
       "1  FEIYOLD Blue light Blocking Glasses  \n",
       "2                                  NaN  \n",
       "3                                  NaN  \n",
       "4                                  NaN  "
      ]
     },
     "execution_count": 67,
     "metadata": {},
     "output_type": "execute_result"
    }
   ],
   "source": [
    "df.head()"
   ]
  },
  {
   "cell_type": "code",
   "execution_count": 68,
   "metadata": {},
   "outputs": [
    {
     "name": "stdout",
     "output_type": "stream",
     "text": [
      "<class 'pandas.core.frame.DataFrame'>\n",
      "RangeIndex: 15002 entries, 0 to 15001\n",
      "Data columns (total 20 columns):\n",
      " #   Column  Non-Null Count  Dtype \n",
      "---  ------  --------------  ----- \n",
      " 0   Item01  7501 non-null   object\n",
      " 1   Item02  5747 non-null   object\n",
      " 2   Item03  4389 non-null   object\n",
      " 3   Item04  3345 non-null   object\n",
      " 4   Item05  2529 non-null   object\n",
      " 5   Item06  1864 non-null   object\n",
      " 6   Item07  1369 non-null   object\n",
      " 7   Item08  981 non-null    object\n",
      " 8   Item09  654 non-null    object\n",
      " 9   Item10  395 non-null    object\n",
      " 10  Item11  256 non-null    object\n",
      " 11  Item12  154 non-null    object\n",
      " 12  Item13  87 non-null     object\n",
      " 13  Item14  47 non-null     object\n",
      " 14  Item15  25 non-null     object\n",
      " 15  Item16  8 non-null      object\n",
      " 16  Item17  4 non-null      object\n",
      " 17  Item18  4 non-null      object\n",
      " 18  Item19  3 non-null      object\n",
      " 19  Item20  1 non-null      object\n",
      "dtypes: object(20)\n",
      "memory usage: 2.3+ MB\n"
     ]
    }
   ],
   "source": [
    "df.info()"
   ]
  },
  {
   "cell_type": "code",
   "execution_count": 69,
   "metadata": {
    "scrolled": true
   },
   "outputs": [
    {
     "data": {
      "text/plain": [
       "Item01    Dust-Off Compressed Gas 2 pack\n",
       "Item02                      Apple Pencil\n",
       "Item03    Falcon Dust Off Compressed Gas\n",
       "Item04                         HP 61 ink\n",
       "Item05             USB 2.0 Printer cable\n",
       "Name: 57, dtype: object"
      ]
     },
     "execution_count": 69,
     "metadata": {},
     "output_type": "execute_result"
    }
   ],
   "source": [
    "df.iloc[57].dropna()"
   ]
  },
  {
   "cell_type": "markdown",
   "metadata": {},
   "source": [
    "### 2.  Provide one example of transactions in the dataset.\n",
    "One transaction in the dataset is that of a customer who purchased the following items in order:\n",
    "\n",
    "1. Dust-Off Compressed Gas 2 pack\n",
    "2. Apple Pencil\n",
    "3. Falcon Dust Off Compressed Gas\n",
    "4. HP 61 ink\n",
    "5. USB 2.0 Printer cable\n",
    "\n",
    "### 3.  Summarize one assumption of market basket analysis.\n",
    "\n",
    "A critical tool in the market basket analysis is the Apriori algorithm. It is a powerful tool for narrowing down possible sets of items. One central assumption it relies on is that subsets of frequent sets must also be frequent. Suppose an item in a set is infrequent and it falls below a minimum support threshold. In that case, sets containing that item will be infrequent, and can be eliminated for consideration in the analysis\n",
    "\n",
    "# Part III: Data Preparation and Analysis\n",
    "## C.  Prepare and perform market basket analysis by doing the following:\n",
    "### 1.  Transform the dataset to make it suitable for market basket analysis. Include a copy of the cleaned dataset.\n",
    "\n",
    "The first step to preparing the data is to drop all transactions with no purchases."
   ]
  },
  {
   "cell_type": "code",
   "execution_count": 70,
   "metadata": {},
   "outputs": [],
   "source": [
    "df.dropna(how='all', inplace=True)"
   ]
  },
  {
   "cell_type": "code",
   "execution_count": 71,
   "metadata": {},
   "outputs": [
    {
     "name": "stdout",
     "output_type": "stream",
     "text": [
      "<class 'pandas.core.frame.DataFrame'>\n",
      "Int64Index: 7501 entries, 1 to 15001\n",
      "Data columns (total 20 columns):\n",
      " #   Column  Non-Null Count  Dtype \n",
      "---  ------  --------------  ----- \n",
      " 0   Item01  7501 non-null   object\n",
      " 1   Item02  5747 non-null   object\n",
      " 2   Item03  4389 non-null   object\n",
      " 3   Item04  3345 non-null   object\n",
      " 4   Item05  2529 non-null   object\n",
      " 5   Item06  1864 non-null   object\n",
      " 6   Item07  1369 non-null   object\n",
      " 7   Item08  981 non-null    object\n",
      " 8   Item09  654 non-null    object\n",
      " 9   Item10  395 non-null    object\n",
      " 10  Item11  256 non-null    object\n",
      " 11  Item12  154 non-null    object\n",
      " 12  Item13  87 non-null     object\n",
      " 13  Item14  47 non-null     object\n",
      " 14  Item15  25 non-null     object\n",
      " 15  Item16  8 non-null      object\n",
      " 16  Item17  4 non-null      object\n",
      " 17  Item18  4 non-null      object\n",
      " 18  Item19  3 non-null      object\n",
      " 19  Item20  1 non-null      object\n",
      "dtypes: object(20)\n",
      "memory usage: 1.2+ MB\n"
     ]
    }
   ],
   "source": [
    "df.info()"
   ]
  },
  {
   "cell_type": "markdown",
   "metadata": {},
   "source": [
    "This reduces the data set from 15,002 observations to 7,501"
   ]
  },
  {
   "cell_type": "code",
   "execution_count": 72,
   "metadata": {
    "scrolled": true
   },
   "outputs": [
    {
     "data": {
      "text/plain": [
       "(0, 20)"
      ]
     },
     "execution_count": 72,
     "metadata": {},
     "output_type": "execute_result"
    }
   ],
   "source": [
    "df[df.isnull().sum(axis=1) == 20].shape"
   ]
  },
  {
   "cell_type": "markdown",
   "metadata": {},
   "source": [
    "The next step is to reshape the data into a list of lists of the transactions and drop the null, or empty, items in each transaction."
   ]
  },
  {
   "cell_type": "code",
   "execution_count": 73,
   "metadata": {},
   "outputs": [],
   "source": [
    "df.fillna('nothing', inplace=True)"
   ]
  },
  {
   "cell_type": "code",
   "execution_count": 74,
   "metadata": {
    "scrolled": false
   },
   "outputs": [],
   "source": [
    "transactions = df.values.tolist()"
   ]
  },
  {
   "cell_type": "code",
   "execution_count": 75,
   "metadata": {},
   "outputs": [],
   "source": [
    "transactions = [[sale for sale in sales if 'nothing'not in sale]for sales in transactions]"
   ]
  },
  {
   "cell_type": "markdown",
   "metadata": {},
   "source": [
    "Next is the creation of a list of all item purchases and a list of unique items purchased."
   ]
  },
  {
   "cell_type": "code",
   "execution_count": 76,
   "metadata": {
    "scrolled": false
   },
   "outputs": [],
   "source": [
    "flattened = [item for transaction in transactions for item in transaction]\n",
    "items = list(set(flattened))"
   ]
  },
  {
   "cell_type": "markdown",
   "metadata": {},
   "source": [
    "Finally, a pandas dataframe is created from the transactions list of lists with columns for each unique item and a row for each transaction, with “True” values for each item purchased by that customer and “False” for all other items.\n",
    "\n",
    "The result is a pandas dataframe of 7,501 rows for customer purchases and 119 columns for each item, and boolean values indicating each purchase."
   ]
  },
  {
   "cell_type": "code",
   "execution_count": 77,
   "metadata": {
    "scrolled": false
   },
   "outputs": [
    {
     "data": {
      "text/html": [
       "<div>\n",
       "<style scoped>\n",
       "    .dataframe tbody tr th:only-of-type {\n",
       "        vertical-align: middle;\n",
       "    }\n",
       "\n",
       "    .dataframe tbody tr th {\n",
       "        vertical-align: top;\n",
       "    }\n",
       "\n",
       "    .dataframe thead th {\n",
       "        text-align: right;\n",
       "    }\n",
       "</style>\n",
       "<table border=\"1\" class=\"dataframe\">\n",
       "  <thead>\n",
       "    <tr style=\"text-align: right;\">\n",
       "      <th></th>\n",
       "      <th>10ft iPHone Charger Cable</th>\n",
       "      <th>10ft iPHone Charger Cable 2 Pack</th>\n",
       "      <th>3 pack Nylon Braided Lightning Cable</th>\n",
       "      <th>3A USB Type C Cable 3 pack 6FT</th>\n",
       "      <th>5pack Nylon Braided USB C cables</th>\n",
       "      <th>ARRIS SURFboard SB8200 Cable Modem</th>\n",
       "      <th>Anker 2-in-1 USB Card Reader</th>\n",
       "      <th>Anker 4-port USB hub</th>\n",
       "      <th>Anker USB C to HDMI Adapter</th>\n",
       "      <th>Apple Lightning to Digital AV Adapter</th>\n",
       "      <th>...</th>\n",
       "      <th>hP 65 Tri-color ink</th>\n",
       "      <th>iFixit Pro Tech Toolkit</th>\n",
       "      <th>iPhone 11 case</th>\n",
       "      <th>iPhone 12 Charger cable</th>\n",
       "      <th>iPhone 12 Pro case</th>\n",
       "      <th>iPhone 12 case</th>\n",
       "      <th>iPhone Charger Cable Anker 6ft</th>\n",
       "      <th>iPhone SE case</th>\n",
       "      <th>nonda USB C to USB Adapter</th>\n",
       "      <th>seenda Wireless mouse</th>\n",
       "    </tr>\n",
       "  </thead>\n",
       "  <tbody>\n",
       "    <tr>\n",
       "      <th>0</th>\n",
       "      <td>True</td>\n",
       "      <td>False</td>\n",
       "      <td>False</td>\n",
       "      <td>True</td>\n",
       "      <td>False</td>\n",
       "      <td>False</td>\n",
       "      <td>False</td>\n",
       "      <td>False</td>\n",
       "      <td>False</td>\n",
       "      <td>False</td>\n",
       "      <td>...</td>\n",
       "      <td>False</td>\n",
       "      <td>False</td>\n",
       "      <td>False</td>\n",
       "      <td>False</td>\n",
       "      <td>False</td>\n",
       "      <td>False</td>\n",
       "      <td>False</td>\n",
       "      <td>False</td>\n",
       "      <td>True</td>\n",
       "      <td>False</td>\n",
       "    </tr>\n",
       "    <tr>\n",
       "      <th>1</th>\n",
       "      <td>False</td>\n",
       "      <td>False</td>\n",
       "      <td>False</td>\n",
       "      <td>False</td>\n",
       "      <td>False</td>\n",
       "      <td>False</td>\n",
       "      <td>False</td>\n",
       "      <td>False</td>\n",
       "      <td>False</td>\n",
       "      <td>True</td>\n",
       "      <td>...</td>\n",
       "      <td>False</td>\n",
       "      <td>False</td>\n",
       "      <td>False</td>\n",
       "      <td>False</td>\n",
       "      <td>False</td>\n",
       "      <td>False</td>\n",
       "      <td>False</td>\n",
       "      <td>False</td>\n",
       "      <td>False</td>\n",
       "      <td>False</td>\n",
       "    </tr>\n",
       "    <tr>\n",
       "      <th>2</th>\n",
       "      <td>False</td>\n",
       "      <td>False</td>\n",
       "      <td>False</td>\n",
       "      <td>False</td>\n",
       "      <td>False</td>\n",
       "      <td>False</td>\n",
       "      <td>False</td>\n",
       "      <td>False</td>\n",
       "      <td>False</td>\n",
       "      <td>False</td>\n",
       "      <td>...</td>\n",
       "      <td>False</td>\n",
       "      <td>False</td>\n",
       "      <td>False</td>\n",
       "      <td>False</td>\n",
       "      <td>False</td>\n",
       "      <td>False</td>\n",
       "      <td>False</td>\n",
       "      <td>False</td>\n",
       "      <td>False</td>\n",
       "      <td>False</td>\n",
       "    </tr>\n",
       "    <tr>\n",
       "      <th>3</th>\n",
       "      <td>False</td>\n",
       "      <td>False</td>\n",
       "      <td>False</td>\n",
       "      <td>False</td>\n",
       "      <td>False</td>\n",
       "      <td>False</td>\n",
       "      <td>False</td>\n",
       "      <td>False</td>\n",
       "      <td>False</td>\n",
       "      <td>False</td>\n",
       "      <td>...</td>\n",
       "      <td>False</td>\n",
       "      <td>False</td>\n",
       "      <td>False</td>\n",
       "      <td>False</td>\n",
       "      <td>False</td>\n",
       "      <td>False</td>\n",
       "      <td>False</td>\n",
       "      <td>False</td>\n",
       "      <td>False</td>\n",
       "      <td>False</td>\n",
       "    </tr>\n",
       "    <tr>\n",
       "      <th>4</th>\n",
       "      <td>False</td>\n",
       "      <td>False</td>\n",
       "      <td>False</td>\n",
       "      <td>False</td>\n",
       "      <td>False</td>\n",
       "      <td>False</td>\n",
       "      <td>False</td>\n",
       "      <td>False</td>\n",
       "      <td>False</td>\n",
       "      <td>False</td>\n",
       "      <td>...</td>\n",
       "      <td>False</td>\n",
       "      <td>False</td>\n",
       "      <td>False</td>\n",
       "      <td>False</td>\n",
       "      <td>False</td>\n",
       "      <td>False</td>\n",
       "      <td>False</td>\n",
       "      <td>False</td>\n",
       "      <td>False</td>\n",
       "      <td>False</td>\n",
       "    </tr>\n",
       "    <tr>\n",
       "      <th>5</th>\n",
       "      <td>False</td>\n",
       "      <td>False</td>\n",
       "      <td>False</td>\n",
       "      <td>False</td>\n",
       "      <td>False</td>\n",
       "      <td>False</td>\n",
       "      <td>False</td>\n",
       "      <td>False</td>\n",
       "      <td>False</td>\n",
       "      <td>False</td>\n",
       "      <td>...</td>\n",
       "      <td>False</td>\n",
       "      <td>False</td>\n",
       "      <td>False</td>\n",
       "      <td>False</td>\n",
       "      <td>False</td>\n",
       "      <td>False</td>\n",
       "      <td>False</td>\n",
       "      <td>False</td>\n",
       "      <td>False</td>\n",
       "      <td>False</td>\n",
       "    </tr>\n",
       "    <tr>\n",
       "      <th>6</th>\n",
       "      <td>False</td>\n",
       "      <td>False</td>\n",
       "      <td>False</td>\n",
       "      <td>False</td>\n",
       "      <td>False</td>\n",
       "      <td>False</td>\n",
       "      <td>True</td>\n",
       "      <td>False</td>\n",
       "      <td>False</td>\n",
       "      <td>False</td>\n",
       "      <td>...</td>\n",
       "      <td>False</td>\n",
       "      <td>False</td>\n",
       "      <td>False</td>\n",
       "      <td>False</td>\n",
       "      <td>False</td>\n",
       "      <td>False</td>\n",
       "      <td>False</td>\n",
       "      <td>False</td>\n",
       "      <td>False</td>\n",
       "      <td>False</td>\n",
       "    </tr>\n",
       "    <tr>\n",
       "      <th>7</th>\n",
       "      <td>False</td>\n",
       "      <td>True</td>\n",
       "      <td>False</td>\n",
       "      <td>False</td>\n",
       "      <td>False</td>\n",
       "      <td>False</td>\n",
       "      <td>False</td>\n",
       "      <td>False</td>\n",
       "      <td>False</td>\n",
       "      <td>False</td>\n",
       "      <td>...</td>\n",
       "      <td>False</td>\n",
       "      <td>False</td>\n",
       "      <td>False</td>\n",
       "      <td>False</td>\n",
       "      <td>False</td>\n",
       "      <td>False</td>\n",
       "      <td>False</td>\n",
       "      <td>False</td>\n",
       "      <td>False</td>\n",
       "      <td>False</td>\n",
       "    </tr>\n",
       "    <tr>\n",
       "      <th>8</th>\n",
       "      <td>False</td>\n",
       "      <td>False</td>\n",
       "      <td>False</td>\n",
       "      <td>False</td>\n",
       "      <td>False</td>\n",
       "      <td>False</td>\n",
       "      <td>False</td>\n",
       "      <td>False</td>\n",
       "      <td>False</td>\n",
       "      <td>False</td>\n",
       "      <td>...</td>\n",
       "      <td>False</td>\n",
       "      <td>False</td>\n",
       "      <td>False</td>\n",
       "      <td>False</td>\n",
       "      <td>False</td>\n",
       "      <td>False</td>\n",
       "      <td>False</td>\n",
       "      <td>False</td>\n",
       "      <td>False</td>\n",
       "      <td>False</td>\n",
       "    </tr>\n",
       "    <tr>\n",
       "      <th>9</th>\n",
       "      <td>False</td>\n",
       "      <td>False</td>\n",
       "      <td>False</td>\n",
       "      <td>False</td>\n",
       "      <td>False</td>\n",
       "      <td>False</td>\n",
       "      <td>False</td>\n",
       "      <td>False</td>\n",
       "      <td>False</td>\n",
       "      <td>False</td>\n",
       "      <td>...</td>\n",
       "      <td>False</td>\n",
       "      <td>False</td>\n",
       "      <td>False</td>\n",
       "      <td>False</td>\n",
       "      <td>False</td>\n",
       "      <td>False</td>\n",
       "      <td>False</td>\n",
       "      <td>False</td>\n",
       "      <td>False</td>\n",
       "      <td>False</td>\n",
       "    </tr>\n",
       "  </tbody>\n",
       "</table>\n",
       "<p>10 rows × 119 columns</p>\n",
       "</div>"
      ],
      "text/plain": [
       "   10ft iPHone Charger Cable  10ft iPHone Charger Cable 2 Pack  \\\n",
       "0                       True                             False   \n",
       "1                      False                             False   \n",
       "2                      False                             False   \n",
       "3                      False                             False   \n",
       "4                      False                             False   \n",
       "5                      False                             False   \n",
       "6                      False                             False   \n",
       "7                      False                              True   \n",
       "8                      False                             False   \n",
       "9                      False                             False   \n",
       "\n",
       "   3 pack Nylon Braided Lightning Cable  3A USB Type C Cable 3 pack 6FT  \\\n",
       "0                                 False                            True   \n",
       "1                                 False                           False   \n",
       "2                                 False                           False   \n",
       "3                                 False                           False   \n",
       "4                                 False                           False   \n",
       "5                                 False                           False   \n",
       "6                                 False                           False   \n",
       "7                                 False                           False   \n",
       "8                                 False                           False   \n",
       "9                                 False                           False   \n",
       "\n",
       "   5pack Nylon Braided USB C cables  ARRIS SURFboard SB8200 Cable Modem  \\\n",
       "0                             False                               False   \n",
       "1                             False                               False   \n",
       "2                             False                               False   \n",
       "3                             False                               False   \n",
       "4                             False                               False   \n",
       "5                             False                               False   \n",
       "6                             False                               False   \n",
       "7                             False                               False   \n",
       "8                             False                               False   \n",
       "9                             False                               False   \n",
       "\n",
       "   Anker 2-in-1 USB Card Reader  Anker 4-port USB hub  \\\n",
       "0                         False                 False   \n",
       "1                         False                 False   \n",
       "2                         False                 False   \n",
       "3                         False                 False   \n",
       "4                         False                 False   \n",
       "5                         False                 False   \n",
       "6                          True                 False   \n",
       "7                         False                 False   \n",
       "8                         False                 False   \n",
       "9                         False                 False   \n",
       "\n",
       "   Anker USB C to HDMI Adapter  Apple Lightning to Digital AV Adapter  ...  \\\n",
       "0                        False                                  False  ...   \n",
       "1                        False                                   True  ...   \n",
       "2                        False                                  False  ...   \n",
       "3                        False                                  False  ...   \n",
       "4                        False                                  False  ...   \n",
       "5                        False                                  False  ...   \n",
       "6                        False                                  False  ...   \n",
       "7                        False                                  False  ...   \n",
       "8                        False                                  False  ...   \n",
       "9                        False                                  False  ...   \n",
       "\n",
       "   hP 65 Tri-color ink  iFixit Pro Tech Toolkit  iPhone 11 case  \\\n",
       "0                False                    False           False   \n",
       "1                False                    False           False   \n",
       "2                False                    False           False   \n",
       "3                False                    False           False   \n",
       "4                False                    False           False   \n",
       "5                False                    False           False   \n",
       "6                False                    False           False   \n",
       "7                False                    False           False   \n",
       "8                False                    False           False   \n",
       "9                False                    False           False   \n",
       "\n",
       "   iPhone 12 Charger cable  iPhone 12 Pro case  iPhone 12 case  \\\n",
       "0                    False               False           False   \n",
       "1                    False               False           False   \n",
       "2                    False               False           False   \n",
       "3                    False               False           False   \n",
       "4                    False               False           False   \n",
       "5                    False               False           False   \n",
       "6                    False               False           False   \n",
       "7                    False               False           False   \n",
       "8                    False               False           False   \n",
       "9                    False               False           False   \n",
       "\n",
       "   iPhone Charger Cable Anker 6ft  iPhone SE case  nonda USB C to USB Adapter  \\\n",
       "0                           False           False                        True   \n",
       "1                           False           False                       False   \n",
       "2                           False           False                       False   \n",
       "3                           False           False                       False   \n",
       "4                           False           False                       False   \n",
       "5                           False           False                       False   \n",
       "6                           False           False                       False   \n",
       "7                           False           False                       False   \n",
       "8                           False           False                       False   \n",
       "9                           False           False                       False   \n",
       "\n",
       "   seenda Wireless mouse  \n",
       "0                  False  \n",
       "1                  False  \n",
       "2                  False  \n",
       "3                  False  \n",
       "4                  False  \n",
       "5                  False  \n",
       "6                  False  \n",
       "7                  False  \n",
       "8                  False  \n",
       "9                  False  \n",
       "\n",
       "[10 rows x 119 columns]"
      ]
     },
     "execution_count": 77,
     "metadata": {},
     "output_type": "execute_result"
    }
   ],
   "source": [
    "encoder = TransactionEncoder().fit(transactions)\n",
    "onehot = encoder.transform(transactions)\n",
    "onehot = pd.DataFrame(onehot, columns = encoder.columns_)\n",
    "onehot.head(10)"
   ]
  },
  {
   "cell_type": "code",
   "execution_count": 78,
   "metadata": {},
   "outputs": [
    {
     "name": "stdout",
     "output_type": "stream",
     "text": [
      "<class 'pandas.core.frame.DataFrame'>\n",
      "RangeIndex: 7501 entries, 0 to 7500\n",
      "Columns: 119 entries, 10ft iPHone Charger Cable to seenda Wireless mouse\n",
      "dtypes: bool(119)\n",
      "memory usage: 871.8 KB\n"
     ]
    }
   ],
   "source": [
    "onehot.info()"
   ]
  },
  {
   "cell_type": "code",
   "execution_count": 79,
   "metadata": {
    "scrolled": false
   },
   "outputs": [],
   "source": [
    "onehot.to_csv(\"D212_Task3_transformed_data.csv\")"
   ]
  },
  {
   "cell_type": "code",
   "execution_count": 80,
   "metadata": {},
   "outputs": [
    {
     "data": {
      "image/png": "[encoded data removed]",
      "text/plain": [
       "<Figure size 432x288 with 1 Axes>"
      ]
     },
     "metadata": {
      "needs_background": "light"
     },
     "output_type": "display_data"
    }
   ],
   "source": [
    "top10 = onehot.sum().sort_values(ascending=False).head(10).to_frame(name='counts')\n",
    "top10.reset_index(inplace=True)\n",
    "top10.rename(columns={\"index\": \"item\"}, inplace=True)\n",
    "\n",
    "\n",
    "top10.plot.barh(x = 'item', y = 'counts', color='orange')\n",
    "plt.title('Top 10 Items')\n",
    "plt.show;"
   ]
  },
  {
   "cell_type": "code",
   "execution_count": 81,
   "metadata": {
    "scrolled": false
   },
   "outputs": [
    {
     "data": {
      "text/plain": [
       "Dust-Off Compressed Gas 2 pack           0.238368\n",
       "Apple Pencil                             0.179709\n",
       "VIVO Dual LCD Monitor Desk mount         0.174110\n",
       "USB 2.0 Printer cable                    0.170911\n",
       "HP 61 ink                                0.163845\n",
       "Apple USB-C Charger cable                0.132116\n",
       "Screen Mom Screen Cleaner kit            0.129583\n",
       "SanDisk Ultra 64GB card                  0.098254\n",
       "Nylon Braided Lightning to USB cable     0.095321\n",
       "Stylus Pen for iPad                      0.095054\n",
       "Apple Lightning to Digital AV Adapter    0.087188\n",
       "Syntech USB C to USB Adapter             0.081056\n",
       "USB Type C to USB-A Charger cable        0.080389\n",
       "HP 63XL Ink                              0.079323\n",
       "TopMate C5 Laptop Cooler pad             0.076523\n",
       "Logitech M510 Wireless mouse             0.071457\n",
       "Anker USB C to HDMI Adapter              0.068391\n",
       "FEIYOLD Blue light Blocking Glasses      0.065858\n",
       "SanDisk Ultra 128GB card                 0.063325\n",
       "Cat8 Ethernet Cable                      0.062525\n",
       "dtype: float64"
      ]
     },
     "execution_count": 81,
     "metadata": {},
     "output_type": "execute_result"
    }
   ],
   "source": [
    "support = onehot.mean().sort_values(ascending=False)\n",
    "support.head(20)"
   ]
  },
  {
   "cell_type": "code",
   "execution_count": 82,
   "metadata": {},
   "outputs": [
    {
     "data": {
      "text/plain": [
       "11"
      ]
     },
     "execution_count": 82,
     "metadata": {},
     "output_type": "execute_result"
    }
   ],
   "source": [
    "transactions.count(['Dust-Off Compressed Gas 2 pack', 'Apple Pencil'])"
   ]
  },
  {
   "cell_type": "code",
   "execution_count": 83,
   "metadata": {},
   "outputs": [
    {
     "data": {
      "text/plain": [
       "14042"
      ]
     },
     "execution_count": 83,
     "metadata": {},
     "output_type": "execute_result"
    }
   ],
   "source": [
    "rules = list(permutations(items, 2))\n",
    "len(rules)"
   ]
  },
  {
   "cell_type": "code",
   "execution_count": 84,
   "metadata": {
    "scrolled": false
   },
   "outputs": [
    {
     "data": {
      "text/plain": [
       "1642914"
      ]
     },
     "execution_count": 84,
     "metadata": {},
     "output_type": "execute_result"
    }
   ],
   "source": [
    "rules = list(permutations(items, 3))\n",
    "len(rules)"
   ]
  },
  {
   "cell_type": "markdown",
   "metadata": {},
   "source": [
    "### 2.  Execute the code used to generate association rules with the Apriori algorithm. Provide screenshots that demonstrate the error-free functionality of the code."
   ]
  },
  {
   "cell_type": "code",
   "execution_count": 85,
   "metadata": {},
   "outputs": [
    {
     "data": {
      "text/html": [
       "<div>\n",
       "<style scoped>\n",
       "    .dataframe tbody tr th:only-of-type {\n",
       "        vertical-align: middle;\n",
       "    }\n",
       "\n",
       "    .dataframe tbody tr th {\n",
       "        vertical-align: top;\n",
       "    }\n",
       "\n",
       "    .dataframe thead th {\n",
       "        text-align: right;\n",
       "    }\n",
       "</style>\n",
       "<table border=\"1\" class=\"dataframe\">\n",
       "  <thead>\n",
       "    <tr style=\"text-align: right;\">\n",
       "      <th></th>\n",
       "      <th>support</th>\n",
       "      <th>itemsets</th>\n",
       "    </tr>\n",
       "  </thead>\n",
       "  <tbody>\n",
       "    <tr>\n",
       "      <th>0</th>\n",
       "      <td>0.009065</td>\n",
       "      <td>(10ft iPHone Charger Cable)</td>\n",
       "    </tr>\n",
       "    <tr>\n",
       "      <th>1</th>\n",
       "      <td>0.050527</td>\n",
       "      <td>(10ft iPHone Charger Cable 2 Pack)</td>\n",
       "    </tr>\n",
       "    <tr>\n",
       "      <th>2</th>\n",
       "      <td>0.005199</td>\n",
       "      <td>(3 pack Nylon Braided Lightning Cable)</td>\n",
       "    </tr>\n",
       "    <tr>\n",
       "      <th>3</th>\n",
       "      <td>0.042528</td>\n",
       "      <td>(3A USB Type C Cable 3 pack 6FT)</td>\n",
       "    </tr>\n",
       "    <tr>\n",
       "      <th>4</th>\n",
       "      <td>0.019064</td>\n",
       "      <td>(5pack Nylon Braided USB C cables)</td>\n",
       "    </tr>\n",
       "  </tbody>\n",
       "</table>\n",
       "</div>"
      ],
      "text/plain": [
       "    support                                itemsets\n",
       "0  0.009065             (10ft iPHone Charger Cable)\n",
       "1  0.050527      (10ft iPHone Charger Cable 2 Pack)\n",
       "2  0.005199  (3 pack Nylon Braided Lightning Cable)\n",
       "3  0.042528        (3A USB Type C Cable 3 pack 6FT)\n",
       "4  0.019064      (5pack Nylon Braided USB C cables)"
      ]
     },
     "execution_count": 85,
     "metadata": {},
     "output_type": "execute_result"
    }
   ],
   "source": [
    "frequent_itemsets = apriori(onehot, min_support = 0.001, use_colnames = True)\n",
    "frequent_itemsets.head()"
   ]
  },
  {
   "cell_type": "code",
   "execution_count": 86,
   "metadata": {},
   "outputs": [
    {
     "data": {
      "text/plain": [
       "6778"
      ]
     },
     "execution_count": 86,
     "metadata": {},
     "output_type": "execute_result"
    }
   ],
   "source": [
    "len(frequent_itemsets)"
   ]
  },
  {
   "cell_type": "code",
   "execution_count": 87,
   "metadata": {},
   "outputs": [
    {
     "data": {
      "text/plain": [
       "support    0.003136\n",
       "dtype: float64"
      ]
     },
     "execution_count": 87,
     "metadata": {},
     "output_type": "execute_result"
    }
   ],
   "source": [
    "frequent_itemsets.mean()"
   ]
  },
  {
   "cell_type": "markdown",
   "metadata": {},
   "source": [
    "### 3.  Provide values for the support, lift, and confidence of the association rules table."
   ]
  },
  {
   "cell_type": "code",
   "execution_count": 88,
   "metadata": {
    "scrolled": true
   },
   "outputs": [
    {
     "data": {
      "text/html": [
       "<div>\n",
       "<style scoped>\n",
       "    .dataframe tbody tr th:only-of-type {\n",
       "        vertical-align: middle;\n",
       "    }\n",
       "\n",
       "    .dataframe tbody tr th {\n",
       "        vertical-align: top;\n",
       "    }\n",
       "\n",
       "    .dataframe thead th {\n",
       "        text-align: right;\n",
       "    }\n",
       "</style>\n",
       "<table border=\"1\" class=\"dataframe\">\n",
       "  <thead>\n",
       "    <tr style=\"text-align: right;\">\n",
       "      <th></th>\n",
       "      <th>antecedents</th>\n",
       "      <th>consequents</th>\n",
       "      <th>antecedent support</th>\n",
       "      <th>consequent support</th>\n",
       "      <th>support</th>\n",
       "      <th>confidence</th>\n",
       "      <th>lift</th>\n",
       "      <th>leverage</th>\n",
       "      <th>conviction</th>\n",
       "    </tr>\n",
       "  </thead>\n",
       "  <tbody>\n",
       "    <tr>\n",
       "      <th>0</th>\n",
       "      <td>(Dust-Off Compressed Gas 2 pack)</td>\n",
       "      <td>(10ft iPHone Charger Cable)</td>\n",
       "      <td>0.238368</td>\n",
       "      <td>0.009065</td>\n",
       "      <td>0.003200</td>\n",
       "      <td>0.013423</td>\n",
       "      <td>1.480655</td>\n",
       "      <td>0.001039</td>\n",
       "      <td>1.004417</td>\n",
       "    </tr>\n",
       "    <tr>\n",
       "      <th>1</th>\n",
       "      <td>(10ft iPHone Charger Cable)</td>\n",
       "      <td>(Dust-Off Compressed Gas 2 pack)</td>\n",
       "      <td>0.009065</td>\n",
       "      <td>0.238368</td>\n",
       "      <td>0.003200</td>\n",
       "      <td>0.352941</td>\n",
       "      <td>1.480655</td>\n",
       "      <td>0.001039</td>\n",
       "      <td>1.177067</td>\n",
       "    </tr>\n",
       "    <tr>\n",
       "      <th>2</th>\n",
       "      <td>(10ft iPHone Charger Cable 2 Pack)</td>\n",
       "      <td>(3A USB Type C Cable 3 pack 6FT)</td>\n",
       "      <td>0.050527</td>\n",
       "      <td>0.042528</td>\n",
       "      <td>0.003200</td>\n",
       "      <td>0.063325</td>\n",
       "      <td>1.489020</td>\n",
       "      <td>0.001051</td>\n",
       "      <td>1.022203</td>\n",
       "    </tr>\n",
       "    <tr>\n",
       "      <th>3</th>\n",
       "      <td>(3A USB Type C Cable 3 pack 6FT)</td>\n",
       "      <td>(10ft iPHone Charger Cable 2 Pack)</td>\n",
       "      <td>0.042528</td>\n",
       "      <td>0.050527</td>\n",
       "      <td>0.003200</td>\n",
       "      <td>0.075235</td>\n",
       "      <td>1.489020</td>\n",
       "      <td>0.001051</td>\n",
       "      <td>1.026719</td>\n",
       "    </tr>\n",
       "    <tr>\n",
       "      <th>4</th>\n",
       "      <td>(10ft iPHone Charger Cable 2 Pack)</td>\n",
       "      <td>(Anker USB C to HDMI Adapter)</td>\n",
       "      <td>0.050527</td>\n",
       "      <td>0.068391</td>\n",
       "      <td>0.006932</td>\n",
       "      <td>0.137203</td>\n",
       "      <td>2.006162</td>\n",
       "      <td>0.003477</td>\n",
       "      <td>1.079755</td>\n",
       "    </tr>\n",
       "  </tbody>\n",
       "</table>\n",
       "</div>"
      ],
      "text/plain": [
       "                          antecedents                         consequents  \\\n",
       "0    (Dust-Off Compressed Gas 2 pack)         (10ft iPHone Charger Cable)   \n",
       "1         (10ft iPHone Charger Cable)    (Dust-Off Compressed Gas 2 pack)   \n",
       "2  (10ft iPHone Charger Cable 2 Pack)    (3A USB Type C Cable 3 pack 6FT)   \n",
       "3    (3A USB Type C Cable 3 pack 6FT)  (10ft iPHone Charger Cable 2 Pack)   \n",
       "4  (10ft iPHone Charger Cable 2 Pack)       (Anker USB C to HDMI Adapter)   \n",
       "\n",
       "   antecedent support  consequent support   support  confidence      lift  \\\n",
       "0            0.238368            0.009065  0.003200    0.013423  1.480655   \n",
       "1            0.009065            0.238368  0.003200    0.352941  1.480655   \n",
       "2            0.050527            0.042528  0.003200    0.063325  1.489020   \n",
       "3            0.042528            0.050527  0.003200    0.075235  1.489020   \n",
       "4            0.050527            0.068391  0.006932    0.137203  2.006162   \n",
       "\n",
       "   leverage  conviction  \n",
       "0  0.001039    1.004417  \n",
       "1  0.001039    1.177067  \n",
       "2  0.001051    1.022203  \n",
       "3  0.001051    1.026719  \n",
       "4  0.003477    1.079755  "
      ]
     },
     "execution_count": 88,
     "metadata": {},
     "output_type": "execute_result"
    }
   ],
   "source": [
    "rules = association_rules(frequent_itemsets, metric = \"support\", min_threshold = 0.003136)\n",
    "rules.head()"
   ]
  },
  {
   "cell_type": "code",
   "execution_count": 89,
   "metadata": {},
   "outputs": [
    {
     "data": {
      "text/plain": [
       "antecedent support    0.081399\n",
       "consequent support    0.081399\n",
       "support               0.005980\n",
       "confidence            0.142954\n",
       "lift                  1.875117\n",
       "leverage              0.002219\n",
       "conviction            1.088430\n",
       "dtype: float64"
      ]
     },
     "execution_count": 89,
     "metadata": {},
     "output_type": "execute_result"
    }
   ],
   "source": [
    "rules.mean()"
   ]
  },
  {
   "cell_type": "code",
   "execution_count": 90,
   "metadata": {
    "scrolled": false
   },
   "outputs": [
    {
     "data": {
      "text/plain": [
       "9"
      ]
     },
     "execution_count": 90,
     "metadata": {},
     "output_type": "execute_result"
    }
   ],
   "source": [
    "filtered_rules = rules[(rules['antecedent support'] > 0.081399) & \n",
    "                                (rules['support'] > 0.005980) & \n",
    "                                (rules['confidence'] > 0.142954) & \n",
    "                                (rules['lift'] > 1.875117)]\n",
    "len(filtered_rules)"
   ]
  },
  {
   "cell_type": "markdown",
   "metadata": {},
   "source": [
    "### 4.  Identify the top three rules generated by the Apriori algorithm. Include a screenshot of the top rules along with their summaries.\n",
    "The top 3 rules resulting from the Apriori Algorithm are:\n",
    "1. [‘ VIVO Dual LCD Monitor Desk mount’, ‘SanDisk Ultra 64GB card’]\t\n",
    "2. [‘SanDisk Ultra 64GB card’, ’VIVO Dual LCD Monitor Desk mount’]\t\n",
    "3. [‘Screen Mom Screen Cleaner kit’, ‘Nylon Braided Lightning to USB cable]"
   ]
  },
  {
   "cell_type": "code",
   "execution_count": 91,
   "metadata": {
    "scrolled": true
   },
   "outputs": [
    {
     "data": {
      "text/html": [
       "<div>\n",
       "<style scoped>\n",
       "    .dataframe tbody tr th:only-of-type {\n",
       "        vertical-align: middle;\n",
       "    }\n",
       "\n",
       "    .dataframe tbody tr th {\n",
       "        vertical-align: top;\n",
       "    }\n",
       "\n",
       "    .dataframe thead th {\n",
       "        text-align: right;\n",
       "    }\n",
       "</style>\n",
       "<table border=\"1\" class=\"dataframe\">\n",
       "  <thead>\n",
       "    <tr style=\"text-align: right;\">\n",
       "      <th></th>\n",
       "      <th>antecedents</th>\n",
       "      <th>consequents</th>\n",
       "      <th>antecedent support</th>\n",
       "      <th>consequent support</th>\n",
       "      <th>support</th>\n",
       "      <th>confidence</th>\n",
       "      <th>lift</th>\n",
       "      <th>leverage</th>\n",
       "      <th>conviction</th>\n",
       "    </tr>\n",
       "  </thead>\n",
       "  <tbody>\n",
       "    <tr>\n",
       "      <th>1384</th>\n",
       "      <td>(VIVO Dual LCD Monitor Desk mount)</td>\n",
       "      <td>(SanDisk Ultra 64GB card)</td>\n",
       "      <td>0.174110</td>\n",
       "      <td>0.098254</td>\n",
       "      <td>0.039195</td>\n",
       "      <td>0.225115</td>\n",
       "      <td>2.291162</td>\n",
       "      <td>0.022088</td>\n",
       "      <td>1.163716</td>\n",
       "    </tr>\n",
       "    <tr>\n",
       "      <th>1385</th>\n",
       "      <td>(SanDisk Ultra 64GB card)</td>\n",
       "      <td>(VIVO Dual LCD Monitor Desk mount)</td>\n",
       "      <td>0.098254</td>\n",
       "      <td>0.174110</td>\n",
       "      <td>0.039195</td>\n",
       "      <td>0.398915</td>\n",
       "      <td>2.291162</td>\n",
       "      <td>0.022088</td>\n",
       "      <td>1.373997</td>\n",
       "    </tr>\n",
       "    <tr>\n",
       "      <th>1202</th>\n",
       "      <td>(Screen Mom Screen Cleaner kit)</td>\n",
       "      <td>(Nylon Braided Lightning to USB cable)</td>\n",
       "      <td>0.129583</td>\n",
       "      <td>0.095321</td>\n",
       "      <td>0.023597</td>\n",
       "      <td>0.182099</td>\n",
       "      <td>1.910382</td>\n",
       "      <td>0.011245</td>\n",
       "      <td>1.106099</td>\n",
       "    </tr>\n",
       "    <tr>\n",
       "      <th>1203</th>\n",
       "      <td>(Nylon Braided Lightning to USB cable)</td>\n",
       "      <td>(Screen Mom Screen Cleaner kit)</td>\n",
       "      <td>0.095321</td>\n",
       "      <td>0.129583</td>\n",
       "      <td>0.023597</td>\n",
       "      <td>0.247552</td>\n",
       "      <td>1.910382</td>\n",
       "      <td>0.011245</td>\n",
       "      <td>1.156781</td>\n",
       "    </tr>\n",
       "    <tr>\n",
       "      <th>3475</th>\n",
       "      <td>(SanDisk Ultra 64GB card)</td>\n",
       "      <td>(Dust-Off Compressed Gas 2 pack, VIVO Dual LCD...</td>\n",
       "      <td>0.098254</td>\n",
       "      <td>0.059725</td>\n",
       "      <td>0.017064</td>\n",
       "      <td>0.173677</td>\n",
       "      <td>2.907928</td>\n",
       "      <td>0.011196</td>\n",
       "      <td>1.137902</td>\n",
       "    </tr>\n",
       "  </tbody>\n",
       "</table>\n",
       "</div>"
      ],
      "text/plain": [
       "                                 antecedents  \\\n",
       "1384      (VIVO Dual LCD Monitor Desk mount)   \n",
       "1385               (SanDisk Ultra 64GB card)   \n",
       "1202         (Screen Mom Screen Cleaner kit)   \n",
       "1203  (Nylon Braided Lightning to USB cable)   \n",
       "3475               (SanDisk Ultra 64GB card)   \n",
       "\n",
       "                                            consequents  antecedent support  \\\n",
       "1384                          (SanDisk Ultra 64GB card)            0.174110   \n",
       "1385                 (VIVO Dual LCD Monitor Desk mount)            0.098254   \n",
       "1202             (Nylon Braided Lightning to USB cable)            0.129583   \n",
       "1203                    (Screen Mom Screen Cleaner kit)            0.095321   \n",
       "3475  (Dust-Off Compressed Gas 2 pack, VIVO Dual LCD...            0.098254   \n",
       "\n",
       "      consequent support   support  confidence      lift  leverage  conviction  \n",
       "1384            0.098254  0.039195    0.225115  2.291162  0.022088    1.163716  \n",
       "1385            0.174110  0.039195    0.398915  2.291162  0.022088    1.373997  \n",
       "1202            0.095321  0.023597    0.182099  1.910382  0.011245    1.106099  \n",
       "1203            0.129583  0.023597    0.247552  1.910382  0.011245    1.156781  \n",
       "3475            0.059725  0.017064    0.173677  2.907928  0.011196    1.137902  "
      ]
     },
     "execution_count": 91,
     "metadata": {},
     "output_type": "execute_result"
    }
   ],
   "source": [
    "filtered_rules.sort_values(by='support', ascending=False).head()"
   ]
  },
  {
   "cell_type": "code",
   "execution_count": 92,
   "metadata": {},
   "outputs": [
    {
     "data": {
      "text/html": [
       "<div>\n",
       "<style scoped>\n",
       "    .dataframe tbody tr th:only-of-type {\n",
       "        vertical-align: middle;\n",
       "    }\n",
       "\n",
       "    .dataframe tbody tr th {\n",
       "        vertical-align: top;\n",
       "    }\n",
       "\n",
       "    .dataframe thead th {\n",
       "        text-align: right;\n",
       "    }\n",
       "</style>\n",
       "<table border=\"1\" class=\"dataframe\">\n",
       "  <thead>\n",
       "    <tr style=\"text-align: right;\">\n",
       "      <th></th>\n",
       "      <th>antecedents</th>\n",
       "      <th>consequents</th>\n",
       "      <th>support</th>\n",
       "    </tr>\n",
       "  </thead>\n",
       "  <tbody>\n",
       "    <tr>\n",
       "      <th>1384</th>\n",
       "      <td>(VIVO Dual LCD Monitor Desk mount)</td>\n",
       "      <td>(SanDisk Ultra 64GB card)</td>\n",
       "      <td>0.039195</td>\n",
       "    </tr>\n",
       "    <tr>\n",
       "      <th>1385</th>\n",
       "      <td>(SanDisk Ultra 64GB card)</td>\n",
       "      <td>(VIVO Dual LCD Monitor Desk mount)</td>\n",
       "      <td>0.039195</td>\n",
       "    </tr>\n",
       "    <tr>\n",
       "      <th>1202</th>\n",
       "      <td>(Screen Mom Screen Cleaner kit)</td>\n",
       "      <td>(Nylon Braided Lightning to USB cable)</td>\n",
       "      <td>0.023597</td>\n",
       "    </tr>\n",
       "    <tr>\n",
       "      <th>1203</th>\n",
       "      <td>(Nylon Braided Lightning to USB cable)</td>\n",
       "      <td>(Screen Mom Screen Cleaner kit)</td>\n",
       "      <td>0.023597</td>\n",
       "    </tr>\n",
       "    <tr>\n",
       "      <th>3475</th>\n",
       "      <td>(SanDisk Ultra 64GB card)</td>\n",
       "      <td>(Dust-Off Compressed Gas 2 pack, VIVO Dual LCD...</td>\n",
       "      <td>0.017064</td>\n",
       "    </tr>\n",
       "  </tbody>\n",
       "</table>\n",
       "</div>"
      ],
      "text/plain": [
       "                                 antecedents  \\\n",
       "1384      (VIVO Dual LCD Monitor Desk mount)   \n",
       "1385               (SanDisk Ultra 64GB card)   \n",
       "1202         (Screen Mom Screen Cleaner kit)   \n",
       "1203  (Nylon Braided Lightning to USB cable)   \n",
       "3475               (SanDisk Ultra 64GB card)   \n",
       "\n",
       "                                            consequents   support  \n",
       "1384                          (SanDisk Ultra 64GB card)  0.039195  \n",
       "1385                 (VIVO Dual LCD Monitor Desk mount)  0.039195  \n",
       "1202             (Nylon Braided Lightning to USB cable)  0.023597  \n",
       "1203                    (Screen Mom Screen Cleaner kit)  0.023597  \n",
       "3475  (Dust-Off Compressed Gas 2 pack, VIVO Dual LCD...  0.017064  "
      ]
     },
     "execution_count": 92,
     "metadata": {},
     "output_type": "execute_result"
    }
   ],
   "source": [
    "filtered_rules[['antecedents','consequents','support']].sort_values(by='support', ascending=False).head()"
   ]
  },
  {
   "cell_type": "code",
   "execution_count": 93,
   "metadata": {},
   "outputs": [
    {
     "data": {
      "text/plain": [
       "frozenset({'Dust-Off Compressed Gas 2 pack',\n",
       "           'VIVO Dual LCD Monitor Desk mount'})"
      ]
     },
     "execution_count": 93,
     "metadata": {},
     "output_type": "execute_result"
    }
   ],
   "source": [
    "filtered_rules['consequents'].loc[3475]"
   ]
  },
  {
   "cell_type": "markdown",
   "metadata": {},
   "source": [
    "Since the 1st and 2nd rules are mirrored in their antecedents and consequents, as well as the 3rd rule and the 4th rule, it would be worth considering the 5th rule generated as a third option for sets which is:\n",
    "\n",
    "[‘SanDisk Ultra 64GB card’, {'Dust-Off Compressed Gas 2 pack', 'VIVO Dual LCD Monitor Desk mount'}]\n"
   ]
  },
  {
   "cell_type": "code",
   "execution_count": 94,
   "metadata": {},
   "outputs": [],
   "source": [
    "antecedents = ['SanDisk Ultra 64GB card', 'Screen Mom Screen Cleaner kit',\n",
    "               'Nylon Braided Lightning to USB cable', 'VIVO Dual LCD Monitor Desk mount']"
   ]
  },
  {
   "cell_type": "code",
   "execution_count": 95,
   "metadata": {},
   "outputs": [
    {
     "data": {
      "text/html": [
       "<div>\n",
       "<style scoped>\n",
       "    .dataframe tbody tr th:only-of-type {\n",
       "        vertical-align: middle;\n",
       "    }\n",
       "\n",
       "    .dataframe tbody tr th {\n",
       "        vertical-align: top;\n",
       "    }\n",
       "\n",
       "    .dataframe thead th {\n",
       "        text-align: right;\n",
       "    }\n",
       "</style>\n",
       "<table border=\"1\" class=\"dataframe\">\n",
       "  <thead>\n",
       "    <tr style=\"text-align: right;\">\n",
       "      <th></th>\n",
       "      <th>item</th>\n",
       "      <th>counts</th>\n",
       "    </tr>\n",
       "  </thead>\n",
       "  <tbody>\n",
       "    <tr>\n",
       "      <th>2</th>\n",
       "      <td>VIVO Dual LCD Monitor Desk mount</td>\n",
       "      <td>1306</td>\n",
       "    </tr>\n",
       "    <tr>\n",
       "      <th>6</th>\n",
       "      <td>Screen Mom Screen Cleaner kit</td>\n",
       "      <td>972</td>\n",
       "    </tr>\n",
       "    <tr>\n",
       "      <th>7</th>\n",
       "      <td>SanDisk Ultra 64GB card</td>\n",
       "      <td>737</td>\n",
       "    </tr>\n",
       "    <tr>\n",
       "      <th>8</th>\n",
       "      <td>Nylon Braided Lightning to USB cable</td>\n",
       "      <td>715</td>\n",
       "    </tr>\n",
       "  </tbody>\n",
       "</table>\n",
       "</div>"
      ],
      "text/plain": [
       "                                   item  counts\n",
       "2      VIVO Dual LCD Monitor Desk mount    1306\n",
       "6         Screen Mom Screen Cleaner kit     972\n",
       "7               SanDisk Ultra 64GB card     737\n",
       "8  Nylon Braided Lightning to USB cable     715"
      ]
     },
     "execution_count": 95,
     "metadata": {},
     "output_type": "execute_result"
    }
   ],
   "source": [
    "top10[top10['item'].isin(antecedents)]"
   ]
  },
  {
   "cell_type": "markdown",
   "metadata": {},
   "source": [
    "# Part IV: Data Summary and Implications\n",
    "## D.  Summarize your data analysis by doing the following:\n",
    "### 1.  Summarize the significance of support, lift, and confidence from the results of the analysis."
   ]
  },
  {
   "cell_type": "code",
   "execution_count": 96,
   "metadata": {
    "scrolled": true
   },
   "outputs": [
    {
     "data": {
      "text/html": [
       "<div>\n",
       "<style scoped>\n",
       "    .dataframe tbody tr th:only-of-type {\n",
       "        vertical-align: middle;\n",
       "    }\n",
       "\n",
       "    .dataframe tbody tr th {\n",
       "        vertical-align: top;\n",
       "    }\n",
       "\n",
       "    .dataframe thead th {\n",
       "        text-align: right;\n",
       "    }\n",
       "</style>\n",
       "<table border=\"1\" class=\"dataframe\">\n",
       "  <thead>\n",
       "    <tr style=\"text-align: right;\">\n",
       "      <th></th>\n",
       "      <th>antecedents</th>\n",
       "      <th>consequents</th>\n",
       "      <th>antecedent support</th>\n",
       "      <th>consequent support</th>\n",
       "      <th>support</th>\n",
       "      <th>confidence</th>\n",
       "      <th>lift</th>\n",
       "    </tr>\n",
       "  </thead>\n",
       "  <tbody>\n",
       "    <tr>\n",
       "      <th>1384</th>\n",
       "      <td>(VIVO Dual LCD Monitor Desk mount)</td>\n",
       "      <td>(SanDisk Ultra 64GB card)</td>\n",
       "      <td>0.174110</td>\n",
       "      <td>0.098254</td>\n",
       "      <td>0.039195</td>\n",
       "      <td>0.225115</td>\n",
       "      <td>2.291162</td>\n",
       "    </tr>\n",
       "    <tr>\n",
       "      <th>1385</th>\n",
       "      <td>(SanDisk Ultra 64GB card)</td>\n",
       "      <td>(VIVO Dual LCD Monitor Desk mount)</td>\n",
       "      <td>0.098254</td>\n",
       "      <td>0.174110</td>\n",
       "      <td>0.039195</td>\n",
       "      <td>0.398915</td>\n",
       "      <td>2.291162</td>\n",
       "    </tr>\n",
       "    <tr>\n",
       "      <th>1202</th>\n",
       "      <td>(Screen Mom Screen Cleaner kit)</td>\n",
       "      <td>(Nylon Braided Lightning to USB cable)</td>\n",
       "      <td>0.129583</td>\n",
       "      <td>0.095321</td>\n",
       "      <td>0.023597</td>\n",
       "      <td>0.182099</td>\n",
       "      <td>1.910382</td>\n",
       "    </tr>\n",
       "  </tbody>\n",
       "</table>\n",
       "</div>"
      ],
      "text/plain": [
       "                             antecedents  \\\n",
       "1384  (VIVO Dual LCD Monitor Desk mount)   \n",
       "1385           (SanDisk Ultra 64GB card)   \n",
       "1202     (Screen Mom Screen Cleaner kit)   \n",
       "\n",
       "                                 consequents  antecedent support  \\\n",
       "1384               (SanDisk Ultra 64GB card)            0.174110   \n",
       "1385      (VIVO Dual LCD Monitor Desk mount)            0.098254   \n",
       "1202  (Nylon Braided Lightning to USB cable)            0.129583   \n",
       "\n",
       "      consequent support   support  confidence      lift  \n",
       "1384            0.098254  0.039195    0.225115  2.291162  \n",
       "1385            0.174110  0.039195    0.398915  2.291162  \n",
       "1202            0.095321  0.023597    0.182099  1.910382  "
      ]
     },
     "execution_count": 96,
     "metadata": {},
     "output_type": "execute_result"
    }
   ],
   "source": [
    "cols = ['antecedents', 'consequents', 'antecedent support',\n",
    "        'consequent support', 'support', 'confidence', 'lift']\n",
    "filtered_rules[cols].sort_values(by='support', ascending=False).head(3)"
   ]
  },
  {
   "cell_type": "markdown",
   "metadata": {},
   "source": [
    "The Association Rule function helps establish additional metrics for filtering data on the most frequent item sets. For the top 3 item sets, the key metrics for understanding these rules in the transaction data are:\n",
    "\n",
    "\n",
    "**Support** – The frequency of an item or item set appearing in all the transactions. In this dataset, there are three support metrics. First is the support for the first item in the rule, the antecedent support. Next is the consequent support, the preceding item in the itemset. And the third metric for support is the support for all items in the set together.\n",
    "\n",
    "Support is a simple calculation of frequency found with the following equation:\n",
    "\n",
    "$$\\displaystyle  \\frac {\\text{Total sum of transactions  with item or itemset}}{\\text{Total sum of all transaction}} $$\n",
    "\n",
    "In this case each rule has the following support metrics:\n",
    "\n",
    "1. [‘ VIVO Dual LCD Monitor Desk mount’, ‘SanDisk Ultra 64GB card’]\n",
    "    - antecedent support = 0.174110\n",
    "    - consequent support = 0.098254\n",
    "    - support = 0.039195\n",
    "        \n",
    "2. [‘SanDisk Ultra 64GB card’, ’VIVO Dual LCD Monitor Desk mount’]\n",
    "    - antecedent support = 0. 098254\n",
    "    - consequent support = 0. 174110\n",
    "    - support = 0.039195\n",
    "        \n",
    "3. [‘Screen Mom Screen Cleaner kit’, ‘Nylon Braided Lightning to USB cable]\n",
    "    - antecedent support = 0.095321\t\n",
    "    - consequent support = 0.129583\n",
    "    - support = 0.023597\n",
    "    \n",
    "\n",
    "**Confidence** - A conditional probability that the consequent item will be purchased if the antecedent item has already been purchased. It is calculated by dividing the support of the antecedent and consequent items by the support of the antecedent item.\n",
    "$$\\displaystyle  \\frac {\\text{ antecedent support & consequent support }}{\\text{ antecedent support }} $$\n",
    "\n",
    "The confidence for the top three rules in this analysis are: \n",
    "1. [‘ VIVO Dual LCD Monitor Desk mount’, ‘SanDisk Ultra 64GB card’] = 0.225115\n",
    "2. [‘SanDisk Ultra 64GB card’, ’VIVO Dual LCD Monitor Desk mount’] = 0.398915\t\n",
    "3. [‘Screen Mom Screen Cleaner kit’, ‘Nylon Braided Lightning to USB cable] = 0.247552\n",
    "\n",
    "\n",
    "**Lift** - The likelihood that the items in the item set will be purchased together despite their independent supports. It is a valuable metric in determining the popularity of the two items as a set versus their independent popularity. To calculate for lift of an item set, the support of the item set is divided by the antecedent supported times the consequent support.\n",
    "\n",
    "$$\\displaystyle  \\frac {\\text{ antecedent support & consequent support }}{\\text{(antecedent support) X (consequent support)}} $$\n",
    "\n",
    "Lift is critical in that it can help determine whether frequent items in a set would have occurred together randomly or if there is an association between them. As a set, they are more popular than each item on its own.\n",
    "\n",
    "If a set’s lift is 1, then the chances of the two items appearing in a set together are more likely due to their own frequency. However, lift values higher than 1 would indicate that these items are frequently bought together with greater association between them rather than the popularity of each item on its own. The greater the lift, the greater the association.\n",
    "\n",
    "The lift for the top three rules in this analysis are: \n",
    "1.\t[‘ VIVO Dual LCD Monitor Desk mount’, ‘SanDisk Ultra 64GB card’] = 2.291162\n",
    "2.\t[‘SanDisk Ultra 64GB card’, ’VIVO Dual LCD Monitor Desk mount’] = 2.291162\t\n",
    "3.\t[‘Screen Mom Screen Cleaner kit’, ‘Nylon Braided Lightning to USB cable] = 1.910382\n",
    "\n",
    "Each lift value for these sets greatly exceeds 1, indicating a strong association between each item within the set.\n"
   ]
  },
  {
   "cell_type": "markdown",
   "metadata": {},
   "source": [
    "### 2.  Discuss the practical significance of the findings from the analysis.\n",
    "\n",
    "The results of this market basket analysis have uncovered some critical metrics in determining the popularity of certain item groups in the transaction history of this dataset.\n",
    "\n",
    "The support values for the top item sets indicate that these items are frequently bought together, more so than any other item set within the data.\n",
    "\n",
    "Furthermore, with lift values of 1.91 and greater for each of these item sets, it is clear that they have a strong association for the items within.\n",
    "\n",
    "### 3.  Recommend a course of action for the real-world organizational situation from part A1 based on your results from part D1.\n",
    "\n",
    "A strategy set forth by the executive team for this telecommunication company is to increase customer retention by offering discounts on items available for purchase. By bundling items typically bought together, the company can reduce the number of items it needs to discount to a select few while still giving the most significant incentive to its customers.\n",
    "\n",
    "This market basket analysis will answer this strategy's key question: What items are bought together most frequently and ideal for bundling together for discounts?\n",
    "\n",
    "This market basket analysis results have indicated the most frequent item sets based on support and validated based on lift. I would recommend the executive team explore bundling the items within each of these top sets and discounting them based on the plan to reduce customer churn by offering discounts on items of interest.\n",
    "\n",
    "These bundles would include:\n",
    "\n",
    "1. The VIVO Dual LCD Monitor Desk mount with the SanDisk Ultra 64GB card\n",
    "2. The SanDisk Ultra 64GB card with the VIVO Dual LCD Monitor Desk mount\t\n",
    "3. The Screen Mom Screen Cleaner kit with the Nylon Braided Lightning to USB cable\n",
    "\n",
    "And since the first and second bundles are mirrored versions of each other, I would also recommend the executive team consider the next most frequent distinct set in the analysis:\n",
    "\n",
    "1. The SanDisk Ultra 64GB card with the Dust-Off Compressed Gas 2 pack and VIVO Dual LCD Monitor Desk mount\n",
    "\n",
    "This set had a support value of 0.017064, a confidence of 0.173677, and a lift value of 2.907928. Its Lift value is greater than any of the other three bundles, so while it is not bought as frequently as the top 3 sets, the items within it have a much higher association and are ideal candidates for an extra bundle at a discount."
   ]
  },
  {
   "cell_type": "markdown",
   "metadata": {},
   "source": [
    "# Part V: Attachments\n",
    "## E.  Provide a Panopto video recording that includes a demonstration of the functionality of the code used for the analysis and a summary of the programming environment.\n",
    "\n",
    "Attached as a link with submission\n",
    " \n",
    "## F.  Record all web sources used to acquire data or segments of third-party code to support the application. Ensure the web sources are reliable.\n",
    "\n",
    "Removing NaN values from a lists of lists.\n",
    "\n",
    "KusiKusi 71511 gold badge99 silver badges1919 bronze badges, tomjntomjn 4, MrGeekMrGeek 21.1k44 gold badges2828 silver badges5252 bronze badges, & Rahul SinghRahul Singh 17466 bronze badges. (1967, April 1). How to remove Nan from list of lists with string entries? Stack Overflow. Retrieved June 15, 2022, from https://stackoverflow.com/questions/57790623/how-to-remove-nan-from-list-of-lists-with-string-entries \n",
    "\n",
    "## G.  Acknowledge sources, using in-text citations and references, for content that is quoted, paraphrased, or summarized.\n",
    "“D212 – Data Mining II” Datacamp, April-Mary 2022, https://app.datacamp.com/learn/custom-tracks/custom-data-mining-ii\n",
    "\n",
    "## H.  Demonstrate professional communication in the content and presentation of your submission.\n"
   ]
  },
  {
   "cell_type": "code",
   "execution_count": null,
   "metadata": {},
   "outputs": [],
   "source": []
  }
 ],
 "metadata": {
  "kernelspec": {
   "display_name": "Python 3",
   "language": "python",
   "name": "python3"
  },
  "language_info": {
   "codemirror_mode": {
    "name": "ipython",
    "version": 3
   },
   "file_extension": ".py",
   "mimetype": "text/x-python",
   "name": "python",
   "nbconvert_exporter": "python",
   "pygments_lexer": "ipython3",
   "version": "3.8.3"
  }
 },
 "nbformat": 4,
 "nbformat_minor": 4
}
